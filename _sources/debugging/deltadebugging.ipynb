{
 "cells": [
  {
   "cell_type": "markdown",
   "metadata": {
    "colab_type": "text",
    "id": "-6Go_Yd_2yi8"
   },
   "source": [
    "Delta Debugging\n",
    "========================="
   ]
  },
  {
   "cell_type": "markdown",
   "metadata": {
    "colab_type": "text",
    "id": "_F2Z9aKxNm8M"
   },
   "source": [
    "Delta Debugging is a methodology that automates program debugging using a scientific approach of hypothesis-trial-result loop. It was created in 1999 when there were many open bugs in Mozilla's bug database. Each bug describes a scenario which caused software to fail. The bug reports could contain a lot of irrelevant information and many of them could be equivalent. It would be very helpful in finding the error if we could simplify the input and still generate the same failures. So we follow the general pattern to put Delta Debugging to work:\n",
    "\n",
    "\n",
    "1. **Identify the test case(s).**\n",
    "\n",
    "2. **Identify the deltas.**\n",
    "\n",
    "3. **Write a testing function.**\n",
    "\n",
    "4. **Invoke Delta Debugging.**"
   ]
  },
  {
   "cell_type": "markdown",
   "metadata": {},
   "source": [
    "## Hands On\n",
    "<a href=\"https://colab.research.google.com/github/damorimRG/practical_testing_book/blob/master/debugging/deltadebugging.ipynb\" target=\"_blank\"> \n",
    "<img alt=\"Open In Colab\" src=\"https://colab.research.google.com/assets/colab-badge.svg\"></a>"
   ]
  },
  {
   "cell_type": "markdown",
   "metadata": {
    "colab_type": "text",
    "id": "rriROrP4Uz0v"
   },
   "source": [
    "### **1 - Identify the test case(s)**\n",
    "\n",
    "Our program consists of **4** small functions and a **prod function** that accepts a list of values and returns their product ( $\\Pi$ ).\n",
    "\n",
    "It fails because it returns a **NaN** and we want to investigate why.\n",
    "\n",
    "In order to complete this step **we need to meet the following requirements**:\n",
    "\n",
    "1. Define a test case where your program fails:\n",
    "    - Calling our prod function with all the items on the list where we get a **NaN** return.\n",
    "\n",
    "\n",
    "2. Define a test case where this failure does not happen:\n",
    "    - Calling our prod function with one item in the list, where it returns a valid value."
   ]
  },
  {
   "cell_type": "code",
   "execution_count": 1,
   "metadata": {
    "colab": {},
    "colab_type": "code",
    "id": "uK6XMiCWaj8T"
   },
   "outputs": [],
   "source": [
    "from decimal import Decimal\n",
    "\n",
    "def functionA(): \n",
    "    return 1\n",
    "\n",
    "def functionB(): \n",
    "    return 2\n",
    "\n",
    "def functionC(): \n",
    "    return 3\n",
    "\n",
    "def functionD():\n",
    "    return 4\n",
    "\n",
    "def functionE():\n",
    "    return Decimal('nan')\n",
    "\n",
    "def prod(args):\n",
    "    res = 1\n",
    "    for a in args:\n",
    "        res *= a\n",
    "    return res"
   ]
  },
  {
   "cell_type": "code",
   "execution_count": 2,
   "metadata": {
    "colab": {
     "base_uri": "https://localhost:8080/",
     "height": 51
    },
    "colab_type": "code",
    "id": "sdgpwNQYawel",
    "outputId": "a54d7537-2483-40c9-f1ba-d84f7ad060f0"
   },
   "outputs": [
    {
     "name": "stdout",
     "output_type": "stream",
     "text": [
      "A: NaN\n",
      "B: 2\n"
     ]
    }
   ],
   "source": [
    "A = prod([functionA(), functionB(), functionC(), functionD(), functionE()])\n",
    "B = prod([functionB()])\n",
    "print(f'A: {A}\\nB: {B}')"
   ]
  },
  {
   "cell_type": "markdown",
   "metadata": {
    "colab_type": "text",
    "id": "QorN8T7MnoCv"
   },
   "source": [
    "### **2 - Identify the deltas.**\n",
    "\n",
    "For the next step we must find a set of deltas, which is the difference between the entry in the failed execution and the entry in the execution without failure.\n",
    "\n",
    "In our case the entries are:\n",
    "\n",
    "\n",
    "1. `[functionA(), functionB(), functionC(), functionD(), functionE()]`\n",
    "2. `[functionB()]`\n",
    "\n",
    "So the difference is: `[functionA(), functionC(), functionD(), functionE()]`\n",
    "\n",
    "Then we can divide our set of deltas into small parts later."
   ]
  },
  {
   "cell_type": "code",
   "execution_count": 3,
   "metadata": {},
   "outputs": [],
   "source": [
    "deltas = [functionA(), functionC(), functionD(), functionE()]"
   ]
  },
  {
   "cell_type": "markdown",
   "metadata": {
    "colab_type": "text",
    "id": "TZNz-_8m0fD6"
   },
   "source": [
    "### **3 - Write a testing function.**\n",
    "\n",
    "In this stage of the tests, we have a test function that receives a list of deltas:\n",
    "1. Prints PASS if the result is an integer. \n",
    "1. Prints FAIL if the result is not an integer."
   ]
  },
  {
   "cell_type": "code",
   "execution_count": 4,
   "metadata": {
    "colab": {},
    "colab_type": "code",
    "id": "7dNEmlYz2P7r"
   },
   "outputs": [],
   "source": [
    "def test(deltas):\n",
    "    for i in range(0, len(deltas)):\n",
    "        result = prod(deltas[0:i+1])\n",
    "        if isinstance(result, int):\n",
    "            print(\"PASS\")\n",
    "        else:\n",
    "            print(\"FAIL\")"
   ]
  },
  {
   "cell_type": "code",
   "execution_count": 5,
   "metadata": {
    "colab": {
     "base_uri": "https://localhost:8080/",
     "height": 136
    },
    "colab_type": "code",
    "id": "D5tUru7LISNw",
    "outputId": "129741a0-f025-419a-870d-3f30fcf5b169"
   },
   "outputs": [
    {
     "name": "stdout",
     "output_type": "stream",
     "text": [
      "PASS\n",
      "PASS\n",
      "PASS\n",
      "FAIL\n"
     ]
    }
   ],
   "source": [
    "test(deltas)"
   ]
  },
  {
   "cell_type": "markdown",
   "metadata": {
    "colab_type": "text",
    "id": "BK6ShyYK2eSv"
   },
   "source": [
    "### **4 - Invoke Delta Debugging.**\n",
    "\n",
    "Now that we have the test function, we want to identify which function is the problem. We will then run the delta debugging and it will show us the results produced for each input. This way we can identify wich function is breaking the program.\n",
    "\n",
    "To make our job easier, let's make a small change to our test function.\n",
    "\n",
    "We will create a python dictionary, and store the inputs and results of our **prod** function as a key-value pair."
   ]
  },
  {
   "cell_type": "code",
   "execution_count": 6,
   "metadata": {
    "colab": {},
    "colab_type": "code",
    "id": "dB4ADStH-sdd"
   },
   "outputs": [],
   "source": [
    "def test(deltas):\n",
    "    ans = dict()\n",
    "    for i in range(0,len(deltas)):\n",
    "        result = prod(deltas[0:i+1])\n",
    "        if isinstance(result, int):\n",
    "            ans[tuple(deltas[0:i+1])] = \"PASS\"\n",
    "        else:\n",
    "            ans[tuple(deltas[0:i+1])] = \"FAIL\"\n",
    "    return ans"
   ]
  },
  {
   "cell_type": "code",
   "execution_count": 7,
   "metadata": {
    "colab": {
     "base_uri": "https://localhost:8080/",
     "height": 136
    },
    "colab_type": "code",
    "id": "Un-Oxyix5ZLu",
    "outputId": "49d3cf13-c5db-4a5d-a8b1-6845e28be94a"
   },
   "outputs": [],
   "source": [
    "def deltaDebugging():\n",
    "    ans = test(deltas)\n",
    "    for key, value in ans.items():\n",
    "        print(value, key)\n"
   ]
  },
  {
   "cell_type": "markdown",
   "metadata": {
    "colab_type": "text",
    "id": "VVDlvURfGdFQ"
   },
   "source": [
    "So calling deltaDebuggig we have:\n"
   ]
  },
  {
   "cell_type": "code",
   "execution_count": 8,
   "metadata": {
    "colab": {
     "base_uri": "https://localhost:8080/",
     "height": 153
    },
    "colab_type": "code",
    "id": "beEkrTbEGj3L",
    "outputId": "ff5745de-1c3b-47a5-887a-9b0c47eb1b72"
   },
   "outputs": [
    {
     "name": "stdout",
     "output_type": "stream",
     "text": [
      "PASS (1,)\n",
      "PASS (1, 3)\n",
      "PASS (1, 3, 4)\n",
      "FAIL (1, 3, 4, Decimal('NaN'))\n"
     ]
    }
   ],
   "source": [
    "deltaDebugging()"
   ]
  },
  {
   "cell_type": "markdown",
   "metadata": {
    "colab_type": "text",
    "id": "8wIVwvhfGl82"
   },
   "source": [
    "Where, as a result, we can see what our main program has entered and what it has given us. With this, looking at the last line, it is clear that when we pass the **functionE** to our **prod** function, a failure results. With that the biggest entry we can have is:"
   ]
  },
  {
   "cell_type": "code",
   "execution_count": 9,
   "metadata": {
    "colab": {
     "base_uri": "https://localhost:8080/",
     "height": 34
    },
    "colab_type": "code",
    "id": "EqL9s14OHNEF",
    "outputId": "6026e413-4b9e-4a99-a67e-c740b21a01e4"
   },
   "outputs": [
    {
     "data": {
      "text/plain": [
       "24"
      ]
     },
     "execution_count": 9,
     "metadata": {},
     "output_type": "execute_result"
    }
   ],
   "source": [
    "prod([functionA(), functionB(), functionC(), functionD()])"
   ]
  },
  {
   "cell_type": "markdown",
   "metadata": {
    "colab_type": "text",
    "id": "I_4kPTbsyDuv"
   },
   "source": [
    "## **Conclusion**\n",
    "\n",
    "We saw here how the delta debugging methodology works with a simple example to make the explanation clearer and more practical, as delta debugging is a methodology it can be implemented in several ways, there's a reference below with another implementation."
   ]
  },
  {
   "cell_type": "markdown",
   "metadata": {
    "colab_type": "text",
    "id": "jDxWhT9x1ozI"
   },
   "source": [
    "## **References**\n",
    "\n",
    "*   [Using DeltaDebugging](https://www.st.cs.uni-saarland.de/dd/ddusage.php3)\n",
    "\n",
    "\n",
    "\n"
   ]
  }
 ],
 "metadata": {
  "colab": {
   "collapsed_sections": [],
   "name": "Delta Debugging.ipynb",
   "provenance": []
  },
  "kernelspec": {
   "display_name": "Python 3",
   "language": "python",
   "name": "python3"
  },
  "language_info": {
   "codemirror_mode": {
    "name": "ipython",
    "version": 3
   },
   "file_extension": ".py",
   "mimetype": "text/x-python",
   "name": "python",
   "nbconvert_exporter": "python",
   "pygments_lexer": "ipython3",
   "version": "3.7.0"
  }
 },
 "nbformat": 4,
 "nbformat_minor": 1
}
