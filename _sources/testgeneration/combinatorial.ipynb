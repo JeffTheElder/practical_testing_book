{
  "nbformat": 4,
  "nbformat_minor": 0,
  "metadata": {
    "colab": {
      "name": "combinatorial.ipynb",
      "provenance": [],
      "collapsed_sections": []
    },
    "kernelspec": {
      "display_name": "Python 3",
      "language": "python",
      "name": "python3"
    },
    "language_info": {
      "codemirror_mode": {
        "name": "ipython",
        "version": 3
      },
      "file_extension": ".py",
      "mimetype": "text/x-python",
      "name": "python",
      "nbconvert_exporter": "python",
      "pygments_lexer": "ipython3",
      "version": "3.8.5"
    }
  },
  "cells": [
    {
      "cell_type": "markdown",
      "metadata": {
        "colab_type": "text",
        "id": "-ximsyvKIyUO"
      },
      "source": [
        "Combinatorial Testing\n",
        "=====================\n",
        "\n",
        "Nowadays, software systems are complex and can have multiple possible configurations, for example, an application can have multiple target operating systems, execute in various types of hardware, and in multiple resolutions. But also those applications can have multiple states which they are in.\n",
        "Those multiple parameters for a system cause different behaviors alone and when combined, so multiple combinations of a system’s parameters must be tested to achieve optimal test coverage, and catch errors that wouldn't be detected executing simple tests.\n",
        "\n",
        "An example of an application that can have multiple possible configurations, is a mobile application, that can execute in multiple types of cellphone and in multiple possible states. A example of possible parameters {cite}`combinatorialexample` for a mobile application are:\n",
        "\n",
        "| Parameter   | Options                       |\n",
        "|-------------|-------------------------------|\n",
        "| Orientation | portrait, landscape           |\n",
        "| OS          | iOS, Android                  |\n",
        "| Screen Size | 1080x1920, 750x1334, 720x1280 |\n",
        "\n",
        "Using those parameters, we can calculate the list of possible parameter combinations multiplying the number of options for each parameter:\n",
        "\n",
        "```\n",
        "    Number of configuration combinations = 2 * 2 * 3 = 12 combinations of parameters\n",
        "```\n",
        "\n",
        "With a small quantity of parameters and options, this number is already big. But as the number of parameters and its possible values raise, the number of possible combinations rises exponentially, making it impossible to exhaustively test the software, given the time and budget constraints often existent on software projects.\n",
        "\n",
        "A way to overcome those limitations is by using Combinatorial Testing, a method for software testing that for some input parameters, tests possible discrete combinations of those parameters, generating those combinations by systematically covering t-way interactions between parameters {cite}`combinatorialsurvey`, the \"t\" being called the degree of interaction, this set of combinations is called a *covering array*.\n",
        "\n",
        "## Choosing a degree of interaction\n",
        "Constructing a Combinatorial Testing suite, we have to specify the input parameters and values, but there’s an important parameter we must think about: the degree of interaction. A degree of interaction t means that we want to test the t-way interaction of our parameters, that is, we want to test all combinations of t parameters.\t\n",
        "\n",
        "Depending on the value chosen for \"t\", the process of generating the input can be more or less computationally complex but also can achieve more or less fault coverage. Increasing the value for \"t\" will increase the fault coverage, but also will increase the cost for generating and executing the tests, getting to a point that's almost no gain in coverage as the \"t\"  increases.\n",
        "\n",
        "So, you would want to choose a degree of interaction that gives you an appropriate level of confidence but doesn't make the process of testing to costly. The creators of ACTS, a popular tool for combinatorial testing, have done research on the relation of the degree of interactions and software failures. They found that most of the bugs studied were caused by an interaction of at most 6 different parameters {cite}`actscombinatorial`:\n",
        "\n",
        "```{figure} ../assets/interactions_chart.png\n",
        "---\n",
        "name: my-figure\n",
        "---\n",
        "Most failures are triggered by one or two parameters interacting, with progressively fewer by 3, 4, or more {cite}`actscombinatorial`.\n",
        "```"
      ]
    },
    {
      "cell_type": "markdown",
      "metadata": {
        "colab_type": "text",
        "id": "V86ZzMAjJ26S"
      },
      "source": [
        "## Hands On [![Open In Colab](https://colab.research.google.com/assets/colab-badge.svg)](https://colab.research.google.com/github/damorimRG/practical_testing_book/blob/master/testgeneration/combinatorial.ipynb)\n",
        "Now that you understand what combinatorial testing is, let’s see in practice how it is done.\n",
        "\n",
        "\n",
        "Let’s take a looking at a important code that we want to test:"
      ]
    },
    {
      "cell_type": "code",
      "metadata": {
        "id": "j-Y6HPaum6nQ",
        "colab_type": "code",
        "colab": {}
      },
      "source": [
        "%%file important_code.py\n",
        "def important_function(pressure, volume, velocity, low_fuel):\n",
        "    if pressure < 10:\n",
        "        if volume > 300:\n",
        "            if velocity == 5:\n",
        "                do_something_bad()\n",
        "        elif low_fuel:\n",
        "            do_something_good()\n",
        "    else:\n",
        "        do_something_good()\n",
        " \n",
        "def do_something_good():\n",
        "    pass\n",
        " \n",
        "def do_something_bad():\n",
        "    raise Exception(\"A bug happened!\")\n",
        "\n"
      ],
      "execution_count": null,
      "outputs": []
    },
    {
      "cell_type": "markdown",
      "metadata": {
        "colab_type": "text",
        "id": "YLE72TpUOKMM"
      },
      "source": [
        "We want to test important_function, which takes three integer parameters and a boolean. In this case, we want to test many combinations of parameters trying to be more confident that this code doesn't have a bug."
      ]
    },
    {
      "cell_type": "markdown",
      "metadata": {
        "colab_type": "text",
        "id": "pXwkP8SSWSWz"
      },
      "source": [
        "### Writing combinatorial tests\n",
        "Now that we took a look in the code that we want to test, let's see how we can generate the combination of parameters that will spot the bug."
      ]
    },
    {
      "cell_type": "markdown",
      "metadata": {
        "colab_type": "text",
        "id": "QpeC45GP2UvA"
      },
      "source": [
        "First, we need to install both pytest and covertable dependencies:"
      ]
    },
    {
      "cell_type": "code",
      "metadata": {
        "colab_type": "code",
        "id": "BMGwWbc2RpQV",
        "colab": {
          "base_uri": "https://localhost:8080/",
          "height": 173
        },
        "outputId": "309b83dd-c081-4c6b-b210-ed8dbc4360f4"
      },
      "source": [
        "%%bash\n",
        "\n",
        "pip install pytest\n",
        "pip install covertable"
      ],
      "execution_count": 2,
      "outputs": [
        {
          "output_type": "stream",
          "text": [
            "Requirement already satisfied: pytest in /usr/local/lib/python3.6/dist-packages (3.6.4)\n",
            "Requirement already satisfied: setuptools in /usr/local/lib/python3.6/dist-packages (from pytest) (49.6.0)\n",
            "Requirement already satisfied: atomicwrites>=1.0 in /usr/local/lib/python3.6/dist-packages (from pytest) (1.4.0)\n",
            "Requirement already satisfied: py>=1.5.0 in /usr/local/lib/python3.6/dist-packages (from pytest) (1.9.0)\n",
            "Requirement already satisfied: six>=1.10.0 in /usr/local/lib/python3.6/dist-packages (from pytest) (1.15.0)\n",
            "Requirement already satisfied: more-itertools>=4.0.0 in /usr/local/lib/python3.6/dist-packages (from pytest) (8.4.0)\n",
            "Requirement already satisfied: attrs>=17.4.0 in /usr/local/lib/python3.6/dist-packages (from pytest) (20.1.0)\n",
            "Requirement already satisfied: pluggy<0.8,>=0.5 in /usr/local/lib/python3.6/dist-packages (from pytest) (0.7.1)\n",
            "Requirement already satisfied: covertable in /usr/local/lib/python3.6/dist-packages (2.0.1)\n"
          ],
          "name": "stdout"
        }
      ]
    },
    {
      "cell_type": "markdown",
      "metadata": {
        "colab_type": "text",
        "id": "ZQoek_Nc3PcN"
      },
      "source": [
        "Now that we have the dependencies installed, let's take a look in the file `test_parameterized.py`, which implements a test using those libraries."
      ]
    },
    {
      "cell_type": "code",
      "metadata": {
        "id": "vYtvNipXmjLO",
        "colab_type": "code",
        "colab": {}
      },
      "source": [
        "%%file test_parameterized.py\n",
        "import pytest\n",
        "from covertable import make\n",
        "import important_code\n",
        " \n",
        "@pytest.mark.parametrize([\"pressure\", \"volume\", \"velocity\", \"low_fuel\"],\n",
        "    make([[5,10,15],\n",
        "        [200, 300, 400],\n",
        "        [1, 2, 3, 4, 5],\n",
        "        [True, False]], length=3)\n",
        ")\n",
        "def test_important_function(pressure, volume, velocity, low_fuel):\n",
        "    important_code.important_function(pressure, volume, velocity, low_fuel)"
      ],
      "execution_count": null,
      "outputs": []
    },
    {
      "cell_type": "markdown",
      "metadata": {
        "colab_type": "text",
        "id": "HwaKPTd-6sNs"
      },
      "source": [
        "As you can see, `pytest` provides us the annotation `@pytest.mark.parametrize` that receives two arguments: an array of parameters names and a array of array of values for each of those parameters. The function below this annotation will be tested for each of the values specified in the second argument.\n",
        "\n"
      ]
    },
    {
      "cell_type": "markdown",
      "metadata": {
        "colab_type": "text",
        "id": "FLmzh2RJOCE7"
      },
      "source": [
        "In the first argument, we need to provide the name of the parameters we want to test. In this case, as we want to test `important_function`, we need to pass `[\"pressure\", \"volume\", \"velocity\", \"low_fuel\"]`."
      ]
    },
    {
      "cell_type": "markdown",
      "metadata": {
        "colab_type": "text",
        "id": "n-VF2xWQZJgP"
      },
      "source": [
        "In the second argument, we need to pass an array of array of values, that would be the combination of parameters given to `important_function`. To do that, we will be using `covertable` function called `make`. This function receives an array of array of values and return an array with the combination of them. To be more clear, as we passed `[5,10,15]` as the first element of the array, those are the possible values for the parameter `pressure`, `[200, 300, 400]` would be the possible values for the parameter `volume`, and so on."
      ]
    },
    {
      "cell_type": "markdown",
      "metadata": {
        "colab_type": "text",
        "id": "kqpwSQM0cQx4"
      },
      "source": [
        "It's important to notice that `make` also accepts some configuration. In the second argument, we set `length=3`. This is the degree of interaction that we teached earlier in this article. As we need the combination of `pressure`, `volume`, and `velocity` to catch the bug, our degree of interaction will be 3\n",
        "(in a real-world scenario, though, we wouldn’t know when a bug happens. So, you would want to choose a degree of interaction that gives you an appropriate level of confidence, as we discussed)."
      ]
    },
    {
      "cell_type": "markdown",
      "metadata": {
        "colab_type": "text",
        "id": "b_Q0FglEcW7s"
      },
      "source": [
        "Now that we have our test file, we just need to run pytest and see if there's a bug:"
      ]
    },
    {
      "cell_type": "code",
      "metadata": {
        "colab_type": "code",
        "id": "aJxQLiGkl8l8",
        "colab": {
          "base_uri": "https://localhost:8080/",
          "height": 612
        },
        "outputId": "65edba1a-7962-41ed-d5ae-150ef9152da0"
      },
      "source": [
        "%%bash\n",
        "\n",
        "python -m pytest"
      ],
      "execution_count": null,
      "outputs": [
        {
          "output_type": "stream",
          "text": [
            "============================= test session starts ==============================\n",
            "platform linux -- Python 3.6.9, pytest-3.6.4, py-1.9.0, pluggy-0.7.1\n",
            "rootdir: /content, inifile:\n",
            "plugins: typeguard-2.7.1\n",
            "collected 45 items\n",
            "\n",
            "sample_data/test_parameterized.py ...........F.......................... [ 84%]\n",
            ".......                                                                  [100%]\n",
            "\n",
            "=================================== FAILURES ===================================\n",
            "____________________ test_important_function[5-400-5-False] ____________________\n",
            "\n",
            "pressure = 5, volume = 400, velocity = 5, low_fuel = False\n",
            "\n",
            "    @pytest.mark.parametrize([\"pressure\", \"volume\", \"velocity\", \"low_fuel\"],\n",
            "        make([[5,10,15],\n",
            "            [200, 300, 400],\n",
            "            [1, 2, 3, 4, 5],\n",
            "            [True, False]], length=3)\n",
            "    )\n",
            "    def test_important_function(pressure, volume, velocity, low_fuel):\n",
            ">       important_function(pressure, volume, velocity, low_fuel)\n",
            "\n",
            "sample_data/test_parameterized.py:27: \n",
            "_ _ _ _ _ _ _ _ _ _ _ _ _ _ _ _ _ _ _ _ _ _ _ _ _ _ _ _ _ _ _ _ _ _ _ _ _ _ _ _ \n",
            "sample_data/test_parameterized.py:8: in important_function\n",
            "    do_something_bad()\n",
            "_ _ _ _ _ _ _ _ _ _ _ _ _ _ _ _ _ _ _ _ _ _ _ _ _ _ _ _ _ _ _ _ _ _ _ _ _ _ _ _ \n",
            "\n",
            "    def do_something_bad():\n",
            ">       raise Exception(\"A bug happened!\")\n",
            "E       Exception: A bug happened!\n",
            "\n",
            "sample_data/test_parameterized.py:18: Exception\n",
            "===================== 1 failed, 44 passed in 0.10 seconds ======================\n"
          ],
          "name": "stdout"
        }
      ]
    },
    {
      "cell_type": "markdown",
      "metadata": {
        "colab_type": "text",
        "id": "aN7Msq4BciwU"
      },
      "source": [
        "When running this command, you will see the log of parameters used to test the function and spot the bug caused by the combination of values that satisfies `pressure < 10, volume > 300, and velocity == 5`.\n"
      ]
    },
    {
      "cell_type": "markdown",
      "metadata": {
        "colab_type": "text",
        "id": "2e4qeJrowrWY"
      },
      "source": [
        "## Exercise\n",
        "\n",
        "Let's practice what you learned. Using pytest and covertable, try to make a combinatorial test that will cover all interaction between the passed parameters in this domain below."
      ]
    },
    {
      "cell_type": "code",
      "metadata": {
        "id": "edH4sPg4p1w7",
        "colab_type": "code",
        "colab": {}
      },
      "source": [
        "import pytest\n",
        "from covertable import make\n",
        "\n",
        "def get_orientation(phoneWidthPixels, phoneHeightPixels, operatingSystem):\n",
        "  if phoneWidthPixels >= 320 and phoneWidthPixels <= 640 and phoneHeightPixels <= 1136:\n",
        "    if operatingSystem == \"android\" or operatingSystem == \"fuchsia\":\n",
        "        return \"landscape\"\n",
        "    elif operatingSystem == \"ios\":\n",
        "        return \"portrait\"\n",
        "  elif phoneWidthPixels > 640 and phoneWidthPixels < 1242 and phoneHeightPixels > 1136 and phoneHeightPixels < 2208:\n",
        "    if operatingSystem == \"android\" or operatingSystem == \"fuchsia\":\n",
        "        return \"portrait\"\n",
        "    elif operatingSystem == \"ios\":\n",
        "        return \"landscape\"\n",
        "  else:\n",
        "    return \"portrait\"\n",
        "\n",
        "\n",
        "## Testing\n",
        "\n",
        "@pytest.mark.parametrize([\"phoneWidthPixels\", \"phoneHeightPixels\", \"operatingSystem\"],\n",
        "    make([[], [], []])\n",
        ")\n",
        "\n",
        "def test_get_orientation(phoneWidthPixels, phoneHeightPixels, operatingSystem):\n",
        "    get_orientation(phoneWidthPixels, phoneHeightPixels, operatingSystem)"
      ],
      "execution_count": null,
      "outputs": []
    },
    {
      "cell_type": "markdown",
      "metadata": {
        "id": "3jaqNRu5jyOt",
        "colab_type": "text"
      },
      "source": [
        "## References\n",
        "\n",
        "```{bibliography} ../zreferences.bib\n",
        "    :style: alpha \n",
        "    :filter: docname in docnames\n",
        "```"
      ]
    }
  ]
}
