{
 "cells": [
  {
   "cell_type": "markdown",
   "metadata": {},
   "source": [
    "# Randomized Testing\n",
    "\n",
    "### Overview\n",
    "Random testing is a black-box software testing technique where programs are tested by generating random, independent inputs. Results of the output are compared against software specifications to verify that the test output is pass or fail. **In case of absence of specifications the exceptions of the language are used** which means if an exception arises during test execution then it means there is a fault in the program, **it is also used as way to avoid biased testing**.\n",
    "\n",
    "[![Random Test Video](http://i3.ytimg.com/vi/cwhC19Fa_84/hqdefault.jpg)](https://www.youtube.com/watch?v=cwhC19Fa_84)\n",
    "\n",
    "### Origin and Motivations\n",
    "This test is based on the **Ininite Monkey Theorem**: \"The infinite monkey theorem states that a monkey hitting keys at random on a typewriter keyboard for an infinite amount of time will almost surely type any given text, such as the complete works of William Shakespeare.\"[[2]](https://en.wikipedia.org/wiki/Infinite_monkey_theorem)\n",
    "\n",
    "Adapting the theorem to our reality: an infinite random input generator can cover all the possible entries of a program. \n",
    "\n",
    "The idea behind the theorem is to test our program with a large number of inputs, randomly and fairly distributed and compare it with the desired output, like a normal test. If we have an error, we should log and try to understand it after. Normally the randomized testing take a while to finish because we need to ensure a good test coverage. "
   ]
  },
  {
   "cell_type": "markdown",
   "metadata": {},
   "source": [
    "## Hands On \n",
    "\n",
    "<a \n",
    "href=\"https://colab.research.google.com/drive/1MxPaezXtSAzIjZR2z0RIRawM6SX2Uo7D?usp=sharing\" target=\"_blank\"> \n",
    "<img alt=\"Open In Colab\" src=\"https://colab.research.google.com/assets/colab-badge.svg\"></a>\n",
    "\n",
    "This session will show a basic function example with random test coverage. For the hands on session we'll define a basic framework to run the randomized testing:"
   ]
  },
  {
   "cell_type": "code",
   "execution_count": 263,
   "metadata": {},
   "outputs": [],
   "source": [
    "from collections import namedtuple\n",
    "Error = namedtuple('Error', [\"input\", \"got\", \"expected\"])\n",
    "\n",
    "class RandomizedTestingFramework:    \n",
    "    def run_test(self, test_function, expected_function, generator, iteration = 100):\n",
    "        error = set()\n",
    "        \n",
    "        while (iteration := iteration - 1):\n",
    "            random_input = generator()\n",
    "            if not hasattr(random_input, '__iter__'):\n",
    "                random_input = [random_input]\n",
    "            test_input = test_function(*random_input)\n",
    "            expected_input = expected_function(*random_input)\n",
    "            \n",
    "            if test_input != expected_input:\n",
    "                error.add(Error(tuple(random_input), test_input, expected_input))\n",
    "\n",
    "        return error\n",
    "            \n",
    "random_framework = RandomizedTestingFramework()"
   ]
  },
  {
   "cell_type": "markdown",
   "metadata": {},
   "source": [
    "### abs()\n",
    "The abs function returns the absolute value of an integer: |x| = x if x >= 0 else -x. To test this, we know that the abs(x), where x is an integer, is always greater than or equal to zero:"
   ]
  },
  {
   "cell_type": "code",
   "execution_count": 264,
   "metadata": {},
   "outputs": [],
   "source": [
    "def myAbs(x: int) -> int:\n",
    "    if x >= 0:\n",
    "        return x\n",
    "    else:\n",
    "        return -x # Possible bug cause"
   ]
  },
  {
   "cell_type": "markdown",
   "metadata": {},
   "source": [
    "Our random generator is simply a function that returns an integer in the range (-inf, inf). For this test, lets keep our bounds between -10 and 10."
   ]
  },
  {
   "cell_type": "code",
   "execution_count": 265,
   "metadata": {},
   "outputs": [],
   "source": [
    "from random import randint\n",
    "def integerGenerator(lower_bound: int = -10, upper_bound: int = 10) -> int:\n",
    "    return randint(lower_bound, upper_bound)"
   ]
  },
  {
   "cell_type": "markdown",
   "metadata": {},
   "source": [
    "To test it, we must ensure that the number of iterations can cover our function. For every wrong evaluation, we will log it:"
   ]
  },
  {
   "cell_type": "code",
   "execution_count": 266,
   "metadata": {},
   "outputs": [
    {
     "data": {
      "text/plain": [
       "set()"
      ]
     },
     "execution_count": 266,
     "metadata": {},
     "output_type": "execute_result"
    }
   ],
   "source": [
    "random_framework.run_test(myAbs, abs, integerGenerator)"
   ]
  },
  {
   "cell_type": "markdown",
   "metadata": {},
   "source": [
    "For our simple test, there is no error. But if we change our abs to add an error"
   ]
  },
  {
   "cell_type": "code",
   "execution_count": 267,
   "metadata": {},
   "outputs": [
    {
     "data": {
      "text/plain": [
       "{Error(input=(-10,), got=0, expected=10),\n",
       " Error(input=(-9,), got=0, expected=9),\n",
       " Error(input=(-8,), got=0, expected=8),\n",
       " Error(input=(-7,), got=0, expected=7),\n",
       " Error(input=(-6,), got=0, expected=6),\n",
       " Error(input=(-5,), got=0, expected=5),\n",
       " Error(input=(-4,), got=0, expected=4),\n",
       " Error(input=(-3,), got=0, expected=3),\n",
       " Error(input=(-2,), got=0, expected=2),\n",
       " Error(input=(-1,), got=0, expected=1)}"
      ]
     },
     "execution_count": 267,
     "metadata": {},
     "output_type": "execute_result"
    }
   ],
   "source": [
    "def myAbs_error(x: int) -> int:\n",
    "    if x >= 0:\n",
    "        return x\n",
    "    else:\n",
    "        return 0\n",
    "    \n",
    "random_framework.run_test(myAbs_error, abs, integerGenerator)"
   ]
  },
  {
   "cell_type": "markdown",
   "metadata": {},
   "source": [
    "## multiply()\n",
    "A more complex case: we want to define a multiply function that only uses binary operators. For this we can use bit operators (&, |, >>, <<), comparators (==, >, <, ...) and the `abs` function."
   ]
  },
  {
   "cell_type": "code",
   "execution_count": 272,
   "metadata": {},
   "outputs": [],
   "source": [
    "def multiply(a: int, b: int) -> int:\n",
    "    def add(a: int, b:int) -> int:\n",
    "        while b:\n",
    "            a, b = (a ^ b), (a & b) << 1\n",
    "        return a\n",
    "\n",
    "    result = 0\n",
    "    negative = a < 0 or b < 0\n",
    "    a, b = abs(a), abs(b)\n",
    "    \n",
    "    while b:\n",
    "        if b & 1: result = add(result, a)\n",
    "\n",
    "        a = add(a, a)\n",
    "        b >>= 1\n",
    "\n",
    "    return -result if negative else result"
   ]
  },
  {
   "cell_type": "code",
   "execution_count": 273,
   "metadata": {},
   "outputs": [
    {
     "data": {
      "text/plain": [
       "{Error(input=(-10, -7), got=-70, expected=70),\n",
       " Error(input=(-9, -5), got=-45, expected=45),\n",
       " Error(input=(-9, -4), got=-36, expected=36),\n",
       " Error(input=(-9, -3), got=-27, expected=27),\n",
       " Error(input=(-8, -6), got=-48, expected=48),\n",
       " Error(input=(-7, -8), got=-56, expected=56),\n",
       " Error(input=(-7, -6), got=-42, expected=42),\n",
       " Error(input=(-7, -1), got=-7, expected=7),\n",
       " Error(input=(-6, -4), got=-24, expected=24),\n",
       " Error(input=(-5, -8), got=-40, expected=40),\n",
       " Error(input=(-5, -7), got=-35, expected=35),\n",
       " Error(input=(-5, -1), got=-5, expected=5),\n",
       " Error(input=(-4, -6), got=-24, expected=24),\n",
       " Error(input=(-4, -2), got=-8, expected=8),\n",
       " Error(input=(-3, -8), got=-24, expected=24),\n",
       " Error(input=(-3, -7), got=-21, expected=21),\n",
       " Error(input=(-3, -2), got=-6, expected=6),\n",
       " Error(input=(-1, -8), got=-8, expected=8)}"
      ]
     },
     "execution_count": 273,
     "metadata": {},
     "output_type": "execute_result"
    }
   ],
   "source": [
    "def tuple_generator(size = 2):\n",
    "    return lambda: [integerGenerator() for _ in range(size)]\n",
    "\n",
    "random_framework.run_test(multiply, lambda a,b: a*b, tuple_generator())"
   ]
  },
  {
   "cell_type": "markdown",
   "metadata": {},
   "source": [
    "Here we can se an error when both values are negative and we have many cases where this bug occur. So let's fix it"
   ]
  },
  {
   "cell_type": "code",
   "execution_count": 280,
   "metadata": {},
   "outputs": [
    {
     "data": {
      "text/plain": [
       "set()"
      ]
     },
     "execution_count": 280,
     "metadata": {},
     "output_type": "execute_result"
    }
   ],
   "source": [
    "def multiply(a: int, b: int) -> int:\n",
    "    def add(a: int, b:int) -> int:\n",
    "        while b:\n",
    "            a, b = (a ^ b), (a & b) << 1\n",
    "        return a\n",
    "\n",
    "    result = 0\n",
    "    negative = (a < 0) ^ (b < 0)\n",
    "    a, b = abs(a), abs(b)\n",
    "    \n",
    "    while b:\n",
    "        if b & 1: result = add(result, a)\n",
    "\n",
    "        a = add(a, a)\n",
    "        b >>= 1\n",
    "\n",
    "    return -result if negative else result\n",
    "\n",
    "random_framework.run_test(multiply, lambda a,b: a*b, tuple_generator())"
   ]
  }
 ],
 "metadata": {
  "kernelspec": {
   "display_name": "Python 3",
   "language": "python",
   "name": "python3"
  },
  "language_info": {
   "codemirror_mode": {
    "name": "ipython",
    "version": 3
   },
   "file_extension": ".py",
   "mimetype": "text/x-python",
   "name": "python",
   "nbconvert_exporter": "python",
   "pygments_lexer": "ipython3",
   "version": "3.8.5"
  }
 },
 "nbformat": 4,
 "nbformat_minor": 4
}
