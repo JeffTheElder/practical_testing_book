{
  "nbformat": 4,
  "nbformat_minor": 0,
  "metadata": {
    "colab": {
      "name": "mutation.ipynb",
      "provenance": [],
      "collapsed_sections": [
        "Fto3_nTLecW7",
        "25lu60QuexCA",
        "ghTQecVse6Ze",
        "uqe5tvulfDVs"
      ]
    },
    "kernelspec": {
      "name": "python3",
      "display_name": "Python 3"
    }
  },
  "cells": [
    {
      "cell_type": "markdown",
      "metadata": {
        "id": "MhVnAUib7_0r",
        "colab_type": "text"
      },
      "source": [
        "Hands On: MutPy\n",
        "================\n",
        "\n",
        " \n",
        "> [*MutPy*](https://pypi.org/project/MutPy/) *is a mutation testing tool for Python 3.3+ source code. MutPy supports standard unittest module, generates YAML/HTML reports and has colorful output. It applies mutation on AST level. You could boost your mutation testing process with high order mutations (HOM) and code coverage analysis.*\n",
        "\n",
        "## Installing\n",
        "\n",
        "Let's install the MutPy using the PyPi command:"
      ]
    },
    {
      "cell_type": "code",
      "metadata": {
        "id": "oiubnvTT8fat",
        "colab_type": "code",
        "colab": {
          "base_uri": "https://localhost:8080/",
          "height": 322
        },
        "outputId": "e7258045-be0d-4daa-d0b0-291f65c4a983"
      },
      "source": [
        "!pip3 install mutpy"
      ],
      "execution_count": null,
      "outputs": []
    },
    {
      "cell_type": "markdown",
      "metadata": {
        "id": "arCdcVIi9Dhz",
        "colab_type": "text"
      },
      "source": [
        "Now we have the MutPy installed let's practice a little to check some of the mutants operators working. We will follow the example of the calculator, as it is a very practical example and we can show some of these operators in action with simple examples.\n",
        "\n",
        "## Examples\n",
        "\n",
        "To run the examples we will create a file `calculator.py` that will be our main file, and based on this file the MutPy will made the changes to create the mutants files.\n",
        "\n",
        "As we do not have yet this file here on our colab environment, let's first create this file (as a empty file to begin). To do this run the following cell:"
      ]
    },
    {
      "cell_type": "code",
      "metadata": {
        "id": "fgaMCDHUPVhK",
        "colab_type": "code",
        "colab": {}
      },
      "source": [
        "with open('calculator.py', 'w') as f:\n",
        "  f.write('')"
      ],
      "execution_count": null,
      "outputs": []
    },
    {
      "cell_type": "markdown",
      "metadata": {
        "id": "jPcKxxC6SMAx",
        "colab_type": "text"
      },
      "source": [
        "Now we have a calculator.py file to start coding, you can see it clicking on this folder icon on the left side. \n",
        "\n",
        "Double click on the created file, it will open here on the right side.\n",
        "\n",
        "now that we have a `.py` file created let's go to our first example, write the following code in it:\n",
        "\n",
        "```python\n",
        "def multiplication (x,y):\n",
        "    return x*y\n",
        "```\n",
        "after writing save the file with 'Ctrl+S'.\n",
        "\n",
        "Now we have a main file we also need a test file to cover this code, for this we will create the file `test_calculator.py` with our unittest the check its quality. \n",
        "\n",
        "As we do above, we will also start with a empty file:\n",
        "\n",
        "\n"
      ]
    },
    {
      "cell_type": "code",
      "metadata": {
        "id": "zsOk3js2Uucy",
        "colab_type": "code",
        "colab": {}
      },
      "source": [
        "with open('test_calculator.py', 'w') as f:\n",
        "  f.write('')"
      ],
      "execution_count": null,
      "outputs": []
    },
    {
      "cell_type": "markdown",
      "metadata": {
        "id": "R0BiV5rQUrBl",
        "colab_type": "text"
      },
      "source": [
        "Update the folder, and double click on the created file to open it. On this file write the following unittest:\n",
        "\n",
        "```python\n",
        "from unittest import TestCase\n",
        "from calculator import multiplication\n",
        " \n",
        "class MultTest (TestCase):\n",
        "    def test_Mult(self):\n",
        "        self.assertEqual(multiplication(2,2),4)\n",
        "```\n",
        "Since we have the main code and its unittets, let’s run the MutPy command below and let’s check the outputs that will be shown to us. \n",
        "\n",
        "(Note that the command have some parameters, where --target is our main file (calculator.py) and --unit-test is our test (test_calculator.py), a list of all arguments with which you can run MutPy can be found on their [page](https://pypi.org/project/MutPy/))."
      ]
    },
    {
      "cell_type": "code",
      "metadata": {
        "id": "PzQN0NjYCnDg",
        "colab_type": "code",
        "colab": {}
      },
      "source": [
        "!mut.py --target calculator --unit-test test_calculator -m"
      ],
      "execution_count": null,
      "outputs": []
    },
    {
      "cell_type": "markdown",
      "metadata": {
        "id": "NtijoAuzY_rI",
        "colab_type": "text"
      },
      "source": [
        "After run the command it will produce the output above.\n",
        "\n",
        "In this example above, not all mutants were killed as we can notice, in this case our score ratio was not 100% as desired, since some of the generated mutants survived, so in this case the the test was not good enough to test the multiplication operation, which indicates that we need to change the entries for this test to improve our coverage."
      ]
    },
    {
      "cell_type": "markdown",
      "metadata": {},
      "source": [
        "Let's analyze one of the changes made by the mutants, note the following mutant that was generated:\n",
        "\n",
        "```\n",
        "   - [#   n] AOR calculator: \n",
        "--------------------------------------------------------------------------------\n",
        "  1: def multiplication(x, y):\n",
        "- 2:     return x * y\n",
        "+ 2:     return x / y\n",
        "```\n",
        "in this example of a mutant, we can observe by the `-` and `+` symbols that the change was inserted in line 2, that through the AOR operation the created mutant was due to the replacement of the multiplication operator `*` (`- 2:     return x * y`) by the division operator `/` (`+ 2:     return x / y`)."
      ]
    },
    {
      "cell_type": "markdown",
      "metadata": {
        "id": "ex-kh162cuns",
        "colab_type": "text"
      },
      "source": [
        "---\n",
        "1. Let's Practice!\n",
        "> As a first fixation exercise, review the test above and modify it so that our score ratio changes to 100%.\n",
        "---"
      ]
    },
    {
      "cell_type": "markdown",
      "metadata": {
        "id": "gTUzvUgEdAsI",
        "colab_type": "text"
      },
      "source": [
        "If you observe on example above, only one of the mutation operators was used on the generated mutants, the operator **AOR (Arithmetic Operator Replacement)**. Let’s now check other examples that uses others operators. "
      ]
    },
    {
      "cell_type": "markdown",
      "metadata": {
        "id": "Fto3_nTLecW7",
        "colab_type": "text"
      },
      "source": [
        "### Arithmetic operators\n",
        "\n",
        "#### **AOD - Arithmetic Operator Deletion**\n",
        "\n",
        "To exemplify AOD let's edite our `calculator.py` and `test_calculator.py` to add the following functions:\n",
        "\n",
        "`calculator.py`\n",
        "```python\n",
        "def inversion (x):\n",
        "    return -x\n",
        "```\n",
        "`test_calculator.py`\n",
        "```python\n",
        "class InvTest (TestCase):\n",
        "    def test_Inv(self):\n",
        "        self.assertEqual(inversion(4),-4)\n",
        "```\n",
        "Note: Here we will change our import from \"mutiplication\" to \"*\".\n",
        "\n",
        "Let’s run the MutPy command again and check the updated outputs that will be shown to us now.\n"
      ]
    },
    {
      "cell_type": "code",
      "metadata": {
        "id": "qPXZZDSdgxZr",
        "colab_type": "code",
        "colab": {}
      },
      "source": [
        "!mut.py --target calculator --unit-test test_calculator -m"
      ],
      "execution_count": null,
      "outputs": []
    },
    {
      "cell_type": "markdown",
      "metadata": {
        "id": "25lu60QuexCA",
        "colab_type": "text"
      },
      "source": [
        "### Assignment Operators\n",
        "\n",
        "#### **ASR - Assignment Operator Replacement and CRP - Constant Replacement**\n",
        "\n",
        "To exemplify ASR and CRP let's edite our `calculator.py` and `test_calculator.py` to add the following functions:\n",
        "\n",
        "`calculator.py`\n",
        "```python\n",
        "def summation(*values):\n",
        "    total = 0\n",
        "    for i in values:\n",
        "        total+=i\n",
        "    return total\n",
        "```\n",
        "`test_calculator.py`\n",
        "```python\n",
        "class SummaTest (TestCase):\n",
        "    def test_Summa(self):\n",
        "        self.assertEqual(summation(1,2,3,4),10)\n",
        "```\n",
        "\n",
        "Run the MutPy command again and check the updated outputs.\n"
      ]
    },
    {
      "cell_type": "code",
      "metadata": {
        "colab_type": "code",
        "id": "Y_p-S9-gi0i4",
        "colab": {
          "base_uri": "https://localhost:8080/",
          "height": 101
        },
        "outputId": "81719e97-28c3-45e1-ad44-b64b8ee149df"
      },
      "source": [
        "!mut.py --target calculator --unit-test test_calculator -m"
      ],
      "execution_count": null,
      "outputs": []
    },
    {
      "cell_type": "markdown",
      "metadata": {
        "id": "ghTQecVse6Ze",
        "colab_type": "text"
      },
      "source": [
        "### Conditional Operators\n",
        "\n",
        "#### **COD - Conditional Operator Deletion and COI - Conditional Operator Insertion**\n",
        "\n",
        "Now the COD and COI examples edite our `calculator.py` and `test_calculator.py` to add the following functions:\n",
        "\n",
        "`calculator.py`\n",
        "```python\n",
        "from numbers import Number \n",
        "\n",
        "def isNum(x):\n",
        "    if not isinstance(x,Number):\n",
        "        return False\n",
        "    return True\n",
        "```\n",
        "`test_calculator.py`\n",
        "```python\n",
        "class IsNumTest (TestCase):\n",
        "    def test_IsNum(self):\n",
        "        self.assertEqual(isNum(1),True)\n",
        "```\n",
        "\n",
        "Run the MutPy command again and check the updated outputs.\n"
      ]
    },
    {
      "cell_type": "code",
      "metadata": {
        "colab_type": "code",
        "id": "pbzY8uHmkOin",
        "colab": {
          "base_uri": "https://localhost:8080/",
          "height": 101
        },
        "outputId": "056b2b12-2b41-417d-e185-cbeae0fddef0"
      },
      "source": [
        "!mut.py --target calculator --unit-test test_calculator -m"
      ],
      "execution_count": null,
      "outputs": []
    },
    {
      "cell_type": "markdown",
      "metadata": {
        "id": "uqe5tvulfDVs",
        "colab_type": "text"
      },
      "source": [
        "### Relational Operator\n",
        "\n",
        "#### **ROR - Relational Operator Replacement**\n",
        "\n",
        "&nbsp;\n",
        "\n",
        "---\n",
        "2. Let's Practice!\n",
        ">  Relational operators has the purpose to compare two values and determine if the relationship between them are `true` or `false`, the relational operators are, `==`, `!=`, `<`, `<=`, `=>`, `>`, in this case only the replacement is allowed for the mutation with the relational operators.\n",
        ">\n",
        "> Now that you have a brief explanation of what the relational operator ROR is, write a function that receives two numbers as an input and compare whether they are the equals or not, to make it easier, below we already have a test for this case that you will have to implement.\n",
        ">\n",
        "> After you have your function written, run the MutPy command again and check the updated outputs.\n",
        "---\n",
        "\n",
        "&nbsp;\n"
      ]
    },
    {
      "cell_type": "markdown",
      "metadata": {},
      "source": [
        "`test_calculator.py`\n",
        "```python\n",
        "class AreEqual (TestCase):\n",
        "    def test_areEquals(self):\n",
        "        self.assertEqual(areEquals(9,9),True)\n",
        "        self.assertEqual(areEquals(4,2),False)\n",
        "```"
      ]
    },
    {
      "cell_type": "code",
      "metadata": {
        "colab_type": "code",
        "id": "hlZw5_5Jlczb",
        "colab": {
          "base_uri": "https://localhost:8080/",
          "height": 101
        },
        "outputId": "6b817a1f-8d19-4479-9292-ba994367ae45"
      },
      "source": [
        "!mut.py --target calculator --unit-test test_calculator -m"
      ],
      "execution_count": null,
      "outputs": []
    },
    {
      "cell_type": "markdown",
      "metadata": {},
      "source": [
        "As a last practice, since we have some test cases written, we will run the mutpy command again, but this time changing its parameter so that it generates a report page in HTML, which makes us have a visual representation of our score ratio."
      ]
    },
    {
      "cell_type": "code",
      "execution_count": null,
      "metadata": {},
      "outputs": [],
      "source": [
        "!mut.py --target calculator --unit-test test_calculator -m --report-html coverage"
      ]
    },
    {
      "cell_type": "markdown",
      "metadata": {},
      "source": [
        "**Note:** unfortunately we will not be able to open this file directly from here, but you can download the files that were created in the coverage folder and open them in your browser to view the coverage report."
      ]
    }
  ]
}