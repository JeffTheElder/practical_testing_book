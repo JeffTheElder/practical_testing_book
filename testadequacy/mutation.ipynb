{
 "metadata": {
  "language_info": {
   "codemirror_mode": {
    "name": "ipython",
    "version": 3
   },
   "file_extension": ".py",
   "mimetype": "text/x-python",
   "name": "python",
   "nbconvert_exporter": "python",
   "pygments_lexer": "ipython3",
   "version": "3.8.5-final"
  },
  "orig_nbformat": 2,
  "kernelspec": {
   "name": "python38564bit5e17dd996ec043b1af3ea66362cb6617",
   "display_name": "Python 3.8.5 64-bit"
  }
 },
 "nbformat": 4,
 "nbformat_minor": 2,
 "cells": [
  {
   "cell_type": "markdown",
   "metadata": {},
   "source": [
    "# Mutation Testing"
   ]
  },
  {
   "cell_type": "code",
   "execution_count": 2,
   "metadata": {},
   "outputs": [
    {
     "output_type": "execute_result",
     "data": {
      "text/plain": "<IPython.lib.display.YouTubeVideo at 0x7f33ffd5cb20>",
      "text/html": "\n        <iframe\n            width=\"400\"\n            height=\"300\"\n            src=\"https://www.youtube.com/embed/QYbqz-gFWAk?start=7\"\n            frameborder=\"0\"\n            allowfullscreen\n        ></iframe>\n        ",
      "image/jpeg": "[encoded data removed]"
     },
     "metadata": {},
     "execution_count": 2
    }
   ],
   "source": [
    "from IPython.display import YouTubeVideo\n",
    "YouTubeVideo('QYbqz-gFWAk', start=7)"
   ]
  },
  {
   "cell_type": "markdown",
   "metadata": {},
   "source": [
    "## Overview\n",
    "\n",
    "Mutation Testing propose the creation of variations of the software under test in order to show that these variations are not correct, therefore, by elimination it can be verified that the original program is correct. These checks are made based on the execution of existing unit tests. With this in mind, we can consider mutation testing as a technique to help in the process of improving test cases, making them more efficient, as well as to improve or guarantee their quality. Note that mutation testing is a white box technique.\n",
    "\n",
    "Mutation Testing works in the following way: The mutation operators are used on the original code making small changes at them, in order to generate some variations called mutants, hence the name given to the technique. After the mutants have been generated, the original tests are used on the generated mutants, if these mutants fail the test cases they will be considered ‘killed’ mutants, if any mutant does not fail it is considered a ‘survived’ mutant and this is an indication that the tests need to be reviewed or analyzed, making these tests more efficient after analysis and corrections."
   ]
  },
  {
   "cell_type": "markdown",
   "metadata": {},
   "source": [
    "## Hands On: MutPy\n",
    " \n",
    "For a more constructive practice using MutPy, let's hands on at Colab:\n",
    "\n",
    "<a href=\"https://colab.research.google.com/github/damorimRG/practical_testing_book/blob/master/testadequacy/mutation_hands_on.ipynb\" target=\"_blank\"> \n",
    "    <img alt=\"Open In Colab\" src=\"https://colab.research.google.com/assets/colab-badge.svg\"></a>\n",
    "    "
   ]
  },
  {
   "cell_type": "markdown",
   "metadata": {},
   "source": [
    "## Examples\n",
    "Here is an example of a mutation in a python code:"
   ]
  },
  {
   "cell_type": "code",
   "execution_count": null,
   "metadata": {},
   "outputs": [],
   "source": [
    "def summation(*values):\n",
    "    total = 0\n",
    "    for i in values:\n",
    "        total+=i\n",
    "    return total"
   ]
  },
  {
   "cell_type": "markdown",
   "metadata": {},
   "source": [
    "The Assignment Operator Replacement (ASR) would replace `+=` with `-=` and produce the following mutant:"
   ]
  },
  {
   "cell_type": "code",
   "execution_count": null,
   "metadata": {},
   "outputs": [],
   "source": [
    "def summation(*values):\n",
    "    total = 0\n",
    "    for i in values:\n",
    "        total-=i\n",
    "    return total"
   ]
  },
  {
   "cell_type": "markdown",
   "metadata": {},
   "source": [
    "or other change can be the Constant Replacement (CRP) that would replace `total = 0` with `total = 1` and produce the following mutant:"
   ]
  },
  {
   "cell_type": "code",
   "execution_count": null,
   "metadata": {},
   "outputs": [],
   "source": [
    "def summation(*values):\n",
    "    total = 1\n",
    "    for i in values:\n",
    "        total+=i\n",
    "    return total"
   ]
  },
  {
   "cell_type": "markdown",
   "metadata": {},
   "source": [
    "When the mutants survive the tests, two situations can be considered, the first is when the test cases are not good enough, as they have not identified the changes in the mutants, and the second is the equivalence between the original program and the mutant called Equivalent Mutant. Equivalent mutants are one of the major problems in using mutation tests.\n",
    "\n",
    "For example, let's consider a particular code section of a program *pro*, and we're going to indicate a mutant for that program *mut*. In this case the *mut* is going to be an equivalent mutant if *mut* is syntactically different from *pro* but have the same behavior as *pro*.\n",
    "```java\n",
    "//Program pro\n",
    "for (int i=0; i<10; i++){\n",
    "    /* i value still the same */\n",
    "}\n",
    "```\n",
    "```java\n",
    "//Equivalent Mutant mut\n",
    "for (int i=0; i!=10; i++){\n",
    "    /* i value still the same */\n",
    "}\n",
    "```\n",
    "The example above shows a mutant that was generated by the Relational Operator Replacement (ROR), which changes the operator  `<` for `!=`. If during the execution of the mutant the loop instruction does not change the value of `i`, both the program pro and your mutant mut, will produce the same output."
   ]
  },
  {
   "cell_type": "markdown",
   "metadata": {},
   "source": [
    "## Mutation Operators\n",
    "\n",
    "Mutation operators are changes made to the original code in order to generate mutants, those changes can be made by modifying expressions, changing, adding or removing operators and/or statements. These operators can be arithmetic, relational, conditional, logical, assignment, among others.\n",
    "Some of these operators were show on 'Hands On: MutPy' section."
   ]
  },
  {
   "cell_type": "markdown",
   "metadata": {},
   "source": [
    "## Pros and Cons\n",
    "\n",
    "### Pros\n",
    " * Creation of effective test suites;\n",
    " * Verification of the suite's reliability;\n",
    " * Help in refactoring tests;\n",
    "\n",
    "### Cons\n",
    " * The high computational cost;\n",
    " * The amount of human effort involved;"
   ]
  },
  {
   "cell_type": "markdown",
   "metadata": {},
   "source": [
    "## References\n",
    "\n",
    "1. Phyllis G Frankl, Stewart N Weiss, and Cang Hu. All-uses vs mutation testing: an experimental comparison of effectiveness. Journal of Systems and Software, 38(3):235–253, 1997.\n",
    "\n",
    "2. Yu-Seung Ma and Jeff Offutt. Description of method-level mutation operators for java. Electronics and Telecommunications Research Institute, Korea, Tech. Rep, 2005.\n",
    "\n",
    "3. Mike Papadakis, Marinos Kintis, Jie Zhang, Yue Jia, Yves Le Traon, and Mark Harman. Chapter six—mutation testing advances: an analysis and survey. volume 112 of advances in computers. 2019.\n",
    "\n",
    "4. A. Derezinska and K. Halas. Experimental evaluation of mutation testing approaches to python programs. In 2014 IEEE Seventh International Conference on Software Testing, Verification and Validation Workshops, volume, 156–164. 2014.\n",
    "\n",
    "5. Y. Jia and M. Harman. An analysis and survey of the development of mutation testing. IEEE Transactions on Software Engineering, 37(5):649–678, 2011.\n",
    "\n",
    "6. L. Madeyski, W. Orzeszyna, R. Torkar, and M. Józala. Overcoming the equivalent mutant problem: a systematic literature review and a comparative experiment of second order mutation. IEEE Transactions on Software Engineering, 40(1):23–42, 2014."
   ]
  }
 ]
}