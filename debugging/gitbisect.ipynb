{
  "nbformat": 4,
  "nbformat_minor": 0,
  "metadata": {
    "colab": {
      "name": "Untitled0.ipynb",
      "provenance": []
    },
    "kernelspec": {
      "name": "python3",
      "display_name": "Python 3"
    }
  },
  "cells": [
    {
      "cell_type": "markdown",
      "metadata": {
        "id": "Rp3xs7hJrtNL",
        "colab_type": "text"
      },
      "source": [
        "# Hands On\n",
        "\n",
        "As seen in the video, it's possible to use `git bisect` to find which commit introduced a bug. Let's do it by ourselves on a sample repository."
      ]
    },
    {
      "cell_type": "markdown",
      "metadata": {
        "id": "jLLAViJQr1LE",
        "colab_type": "text"
      },
      "source": [
        "## Git\n",
        "\n",
        "Firstly we need to install and setup git."
      ]
    },
    {
      "cell_type": "code",
      "metadata": {
        "id": "g1cgOrrUr6kB",
        "colab_type": "code",
        "colab": {}
      },
      "source": [
        "%%bash\n",
        "apt update\n",
        "apt install git\n",
        "git config --global user.name 'John Doe'\n",
        "git config --global user.email johndoe@example.com"
      ],
      "execution_count": null,
      "outputs": []
    },
    {
      "cell_type": "markdown",
      "metadata": {
        "id": "DFmkXBbusPhb",
        "colab_type": "text"
      },
      "source": [
        "## Sample Repository\n",
        "\n",
        "Here we will create a repository from scract and commit some changes. In one of the changes we will introduce a bug that later will be identified by using `git bisect`.\n",
        "\n",
        "The repository will contain a dictionary of words stored in a file called `dict.txt`. Each commit will add or replace a word in the dictionary and by the end we expect a set of words to be present in the file."
      ]
    },
    {
      "cell_type": "code",
      "metadata": {
        "id": "eMfRAsipstdx",
        "colab_type": "code",
        "colab": {}
      },
      "source": [
        "!mkdir repo\n",
        "%cd repo\n",
        "!git init"
      ],
      "execution_count": null,
      "outputs": []
    },
    {
      "cell_type": "markdown",
      "metadata": {
        "id": "C7xc7UfstFEB",
        "colab_type": "text"
      },
      "source": [
        "### Initial Commit"
      ]
    },
    {
      "cell_type": "code",
      "metadata": {
        "id": "ugqCmUa2tHDR",
        "colab_type": "code",
        "colab": {}
      },
      "source": [
        "%%bash\n",
        "echo 'phone' >> dict.txt\n",
        "git add -A\n",
        "git commit -m 'add phone'"
      ],
      "execution_count": null,
      "outputs": []
    },
    {
      "cell_type": "markdown",
      "metadata": {
        "id": "dV3djWLhtjHw",
        "colab_type": "text"
      },
      "source": [
        "###Second Commit"
      ]
    },
    {
      "cell_type": "code",
      "metadata": {
        "id": "j82SaOPdtpbT",
        "colab_type": "code",
        "colab": {}
      },
      "source": [
        "%%bash\n",
        "echo 'call' >> dict.txt\n",
        "git add -A\n",
        "git commit -sm 'add call'"
      ],
      "execution_count": null,
      "outputs": []
    },
    {
      "cell_type": "markdown",
      "metadata": {
        "id": "MNPhEaY7ty8A",
        "colab_type": "text"
      },
      "source": [
        "### Third Commit"
      ]
    },
    {
      "cell_type": "code",
      "metadata": {
        "id": "r9SRX9uMt1bE",
        "colab_type": "code",
        "colab": {}
      },
      "source": [
        "%%bash\n",
        "echo 'people' >> dict.txt\n",
        "git add -A\n",
        "git commit -sm 'add people'"
      ],
      "execution_count": null,
      "outputs": []
    },
    {
      "cell_type": "markdown",
      "metadata": {
        "id": "t_NVWtKDus-y",
        "colab_type": "text"
      },
      "source": [
        "### Fourth Commit"
      ]
    },
    {
      "cell_type": "code",
      "metadata": {
        "id": "_vG6Au8St-Sh",
        "colab_type": "code",
        "colab": {}
      },
      "source": [
        "%%bash\n",
        "echo 'all' >> dict.txt\n",
        "git add -A\n",
        "git commit -sm 'add all'"
      ],
      "execution_count": null,
      "outputs": []
    },
    {
      "cell_type": "markdown",
      "metadata": {
        "id": "Ah5KHx3UuuM2",
        "colab_type": "text"
      },
      "source": [
        "### Fifth Commit"
      ]
    },
    {
      "cell_type": "code",
      "metadata": {
        "id": "VblXyk4JuHIn",
        "colab_type": "code",
        "colab": {}
      },
      "source": [
        "%%bash\n",
        "echo 'meeting' >> dict.txt\n",
        "git add -A\n",
        "git commit -sm 'add meeting'"
      ],
      "execution_count": null,
      "outputs": []
    },
    {
      "cell_type": "markdown",
      "metadata": {
        "id": "ia7AcRsduukz",
        "colab_type": "text"
      },
      "source": [
        "### Sixth Commit"
      ]
    },
    {
      "cell_type": "code",
      "metadata": {
        "id": "5RIyyvQruUCs",
        "colab_type": "code",
        "colab": {}
      },
      "source": [
        "%%bash\n",
        "sed -E 's/all/every/g' -i dict.txt\n",
        "git add -A\n",
        "git commit -sm 'replace all with every'"
      ],
      "execution_count": null,
      "outputs": []
    },
    {
      "cell_type": "markdown",
      "metadata": {
        "id": "YzHch2JEuu7A",
        "colab_type": "text"
      },
      "source": [
        "### Seventh Commit"
      ]
    },
    {
      "cell_type": "code",
      "metadata": {
        "id": "Fm-yG_f2ukAn",
        "colab_type": "code",
        "colab": {}
      },
      "source": [
        "%%bash\n",
        "sed -E 's/phone/cellphone/g' -i dict.txt\n",
        "git add -A\n",
        "git commit -sm 'replace phone with cellphone'"
      ],
      "execution_count": null,
      "outputs": []
    },
    {
      "cell_type": "markdown",
      "metadata": {
        "id": "BaGzMSRYvQQO",
        "colab_type": "text"
      },
      "source": [
        "## Testing\n",
        "\n",
        "Now that we have commited all the changes, we expect some words to be in the dictionary. Let's check if they are!"
      ]
    },
    {
      "cell_type": "code",
      "metadata": {
        "id": "Z_5_vtFcxxRt",
        "colab_type": "code",
        "colab": {}
      },
      "source": [
        "%%bash\n",
        "for WORD in call cellphone every meeting people\n",
        "do\n",
        "  grep -q $WORD ./dict.txt && printf 'PASS' || printf 'FAIL'\n",
        "  echo \" $WORD\"\n",
        "done"
      ],
      "execution_count": null,
      "outputs": []
    },
    {
      "cell_type": "markdown",
      "metadata": {
        "id": "X6ySPcXr0OBu",
        "colab_type": "text"
      },
      "source": [
        "Unfortunately we the word `call` was expected to be in the dictionary but it isn't."
      ]
    },
    {
      "cell_type": "markdown",
      "metadata": {
        "id": "U7fWuCYb0do7",
        "colab_type": "text"
      },
      "source": [
        "## Debuging\n",
        "\n",
        "Now we can use `git bisect` to check when that happened. But first, let's check our commit history to see when we added `call` to the dictionary."
      ]
    },
    {
      "cell_type": "code",
      "metadata": {
        "id": "mNQ9bkOb1qU8",
        "colab_type": "code",
        "colab": {}
      },
      "source": [
        "!git log --oneline"
      ],
      "execution_count": null,
      "outputs": []
    },
    {
      "cell_type": "markdown",
      "metadata": {
        "id": "H3ANyDBG11SI",
        "colab_type": "text"
      },
      "source": [
        "It seems we added the word 5 commits ago, so for sure the world is in the dictionary at that commit. Now we can start the bisect!"
      ]
    },
    {
      "cell_type": "code",
      "metadata": {
        "id": "LhPE7Iga2P7N",
        "colab_type": "code",
        "colab": {}
      },
      "source": [
        "%%bash\n",
        "git bisect start\n",
        "git bisect bad HEAD    # current commit is a bad commit\n",
        "git bisect good HEAD~5 # 5 commits ago is a good commit"
      ],
      "execution_count": null,
      "outputs": []
    },
    {
      "cell_type": "markdown",
      "metadata": {
        "id": "r9peJboe2qzm",
        "colab_type": "text"
      },
      "source": [
        "Now we are in a different commit and we need to check if the word `call` is in the dictionary or not."
      ]
    },
    {
      "cell_type": "code",
      "metadata": {
        "id": "uEU2EipX2xkw",
        "colab_type": "code",
        "colab": {}
      },
      "source": [
        "!grep -q 'call' ./dict.txt && printf 'PASS' || printf 'FAIL'"
      ],
      "execution_count": null,
      "outputs": []
    },
    {
      "cell_type": "markdown",
      "metadata": {
        "id": "pz4MHerL23OO",
        "colab_type": "text"
      },
      "source": [
        "As we can see, the word is there. So we mark this commit as good."
      ]
    },
    {
      "cell_type": "code",
      "metadata": {
        "id": "5OU2CBhQ3NwO",
        "colab_type": "code",
        "colab": {}
      },
      "source": [
        "!git bisect good"
      ],
      "execution_count": null,
      "outputs": []
    },
    {
      "cell_type": "markdown",
      "metadata": {
        "id": "Cx_S4nsC3Uz9",
        "colab_type": "text"
      },
      "source": [
        "Git has moved us to another commit and we need to check again for the existence of the word."
      ]
    },
    {
      "cell_type": "code",
      "metadata": {
        "id": "QnPdwAxX3iCz",
        "colab_type": "code",
        "colab": {}
      },
      "source": [
        "!grep -q 'call' ./dict.txt && printf 'PASS' || printf 'FAIL'"
      ],
      "execution_count": null,
      "outputs": []
    },
    {
      "cell_type": "markdown",
      "metadata": {
        "id": "fQDz0H4c3TSv",
        "colab_type": "text"
      },
      "source": [
        "Now the check as failed. We need to mark this commit as a bad one."
      ]
    },
    {
      "cell_type": "code",
      "metadata": {
        "id": "5YxbRuJB3qdY",
        "colab_type": "code",
        "colab": {}
      },
      "source": [
        "!git bisect bad"
      ],
      "execution_count": null,
      "outputs": []
    },
    {
      "cell_type": "markdown",
      "metadata": {
        "id": "zEttLb-l3swP",
        "colab_type": "text"
      },
      "source": [
        "We run the test again."
      ]
    },
    {
      "cell_type": "code",
      "metadata": {
        "id": "spscQ6wV3yIa",
        "colab_type": "code",
        "colab": {}
      },
      "source": [
        "!grep -q 'call' ./dict.txt && printf 'PASS' || printf 'FAIL'"
      ],
      "execution_count": null,
      "outputs": []
    },
    {
      "cell_type": "markdown",
      "metadata": {
        "id": "nNVap8Bv31Hb",
        "colab_type": "text"
      },
      "source": [
        "This time the commit is a good one."
      ]
    },
    {
      "cell_type": "code",
      "metadata": {
        "id": "lbsmC95e33HM",
        "colab_type": "code",
        "colab": {}
      },
      "source": [
        "!git bisect good"
      ],
      "execution_count": null,
      "outputs": []
    },
    {
      "cell_type": "markdown",
      "metadata": {
        "id": "RnEBIKHw36Lu",
        "colab_type": "text"
      },
      "source": [
        "After classifing some commits for git, it has found which one introduced the problem. And as we can see, it was the one that we replaced the world `all` with `every`.\n",
        "\n",
        "Looking back at the commands we've executed on that commit, we can se that the regular expression that we used for the replacement was too broad and `call` was mistakenly rewritten as `cevery`.\n",
        "\n",
        "We have successfully used `git bisect` to identify a commit that introducted a bug on our repository! Now let's run a final command to reset our repository to its original state."
      ]
    },
    {
      "cell_type": "code",
      "metadata": {
        "id": "WsDVU1r656-z",
        "colab_type": "code",
        "colab": {}
      },
      "source": [
        "!git bisect reset"
      ],
      "execution_count": null,
      "outputs": []
    }
  ]
}