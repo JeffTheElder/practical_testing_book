{
  "nbformat": 4,
  "nbformat_minor": 0,
  "metadata": {
    "colab": {
      "name": "systemtesting_example.ipynb",
      "provenance": [],
      "private_outputs": true,
      "collapsed_sections": []
    },
    "kernelspec": {
      "name": "python3",
      "display_name": "Python 3"
    }
  },
  "cells": [
    {
      "cell_type": "markdown",
      "metadata": {
        "colab_type": "text",
        "id": "ZvQ5ly1XUYej"
      },
      "source": [
        "# Hands On: Robot with Selenium2Library"
      ]
    },
    {
      "cell_type": "markdown",
      "metadata": {
        "colab_type": "text",
        "id": "VbYtxZ8fWwCL"
      },
      "source": [
        "## Setup\n",
        "\n",
        "You will need to install: **_Chromium Browser_**, to run your tests; **_Chromium Chrome Driver_**, so Selenium can control the Chrome browser; **_Robot Framework_**; and **_Selenium2Library_**."
      ]
    },
    {
      "cell_type": "code",
      "metadata": {
        "tags": [],
        "id": "O8xw49O0tCdA",
        "colab_type": "code",
        "colab": {}
      },
      "source": [
        "!apt update\n",
        "!apt install chromium-browser\n",
        "!apt install chromium-chromedriver\n",
        "\n",
        "!pip3 install --upgrade robotframework\n",
        "!pip3 install --upgrade robotframework-selenium2library"
      ],
      "execution_count": null,
      "outputs": []
    },
    {
      "cell_type": "markdown",
      "metadata": {
        "colab_type": "text",
        "id": "MJT9iFL9vA9s"
      },
      "source": [
        "## Google Search Robot File\n",
        "This is a `.robot` file, it defines our system tests by declaring `Keywords` that can be used to write `Test Cases` with human readable words. \n",
        "\n",
        "We are goinf to test if we are able to change sections in the Practical Testing Book.\n",
        "\n",
        "```robotframework\n",
        "*** Settings ***\n",
        "Documentation     Simple example using Selenium2Library.\n",
        "Library           Selenium2Library\n",
        "Test Setup        Open Chrome\n",
        "Suite Teardown    Close All Browsers\n",
        "\n",
        "*** Variables ***\n",
        "${TESTINGBOOK URL}             https://damorimrg.github.io/practical_testing_book\n",
        "${SYSTEMTESTING LINK LOCATOR}  //a[@href=\"testgranularity/systemtesting.html\"]\n",
        "${UNITTESTING LINK LOCATOR}    //a[@href=\"testgranularity/unittesting.html\"]\n",
        "\n",
        "*** Test Cases ***\n",
        "System Testing Section\n",
        "    Open Practical Testing Book \n",
        "    Click Section Link  ${SYSTEMTESTING LINK LOCATOR}\n",
        "    Title Should Be  System Testing — The Practical Testing Book\n",
        "\n",
        "Unit Testing Section\n",
        "    Open Practical Testing Book \n",
        "    Click Section Link  ${UNITTESTING LINK LOCATOR}\n",
        "    Title Should Be  Unit Testing — The Practical Testing Book\n",
        "\n",
        "*** Keywords ***\n",
        "Open Chrome\n",
        "    ${chrome_options}=  Evaluate  sys.modules['selenium.webdriver'].ChromeOptions()  sys,selenium.webdriver\n",
        "    Call Method  ${chrome_options}  add_argument  --disable-extensions\n",
        "    Call Method  ${chrome_options}  add_argument  --headless\n",
        "    Call Method  ${chrome_options}  add_argument  --disable-gpu\n",
        "    Call Method  ${chrome_options}  add_argument  --no-sandbox\n",
        "    Create Webdriver  Chrome  chrome_options=${chrome_options}\n",
        "\n",
        "Open Practical Testing Book \n",
        "    Go to  ${TESTINGBOOK URL}\n",
        "    Title Should Be  Introduction — The Practical Testing Book\n",
        "\n",
        "Click Section Link\n",
        "    [Arguments]  ${link_locator}\n",
        "    Wait Until Element Is Visible  ${link_locator}\n",
        "    Click Link  ${link_locator}\n",
        "```"
      ]
    },
    {
      "cell_type": "markdown",
      "metadata": {
        "id": "kF574zeHzTLY",
        "colab_type": "text"
      },
      "source": [
        "## Running Robot Framework test\n",
        "\n",
        "Save the file above as `example.robot` and run:"
      ]
    },
    {
      "cell_type": "code",
      "metadata": {
        "tags": [],
        "id": "i2roIOnAtCdF",
        "colab_type": "code",
        "colab": {}
      },
      "source": [
        "!robot example.robot\n"
      ],
      "execution_count": null,
      "outputs": []
    },
    {
      "cell_type": "code",
      "metadata": {
        "id": "UXYmXnjnlaLl",
        "colab_type": "code",
        "colab": {}
      },
      "source": [
        ""
      ],
      "execution_count": null,
      "outputs": []
    }
  ]
}